{
 "cells": [
  {
   "cell_type": "code",
   "execution_count": 2,
   "metadata": {},
   "outputs": [
    {
     "name": "stdout",
     "output_type": "stream",
     "text": [
      "Welcome to Sevak - Your legal assistant!\n",
      "Found 1 related articles:\n",
      "Section 302: Section 302 IPC defines murder as an act of intentionally killing another person, and the punishment can range from life imprisonment to death.\n",
      "Found 1 related articles:\n",
      "Section 302: Section 302 IPC defines murder as an act of intentionally killing another person, and the punishment can range from life imprisonment to death.\n",
      "Found 2 related articles:\n",
      "Section 375: Defines rape and describes the circumstances under which an act is considered rape.\n",
      "Section 376: Prescribes the punishment for rape, including different categories and conditions under which the punishment varies, such as for repeat offenders or when the rape involves aggravating factors.\n",
      "Found 1 related articles:\n",
      " Section 420: Section 420 IPC defines cheating as deceiving or inducing a person to deliver property or valuable security, and the punishment can range from 7 years to life imprisonment.\n",
      "Found 1 related articles:\n",
      "Section 153A: discrimination based on religion, race, caste, sex, or place of birth Promotes enmity between different groups on grounds of religion, race, place of birth, residence, language, etc., and does acts prejudicial to the maintenance of harmony.\n",
      "Found 1 related articles:\n",
      "Section 153A: discrimination based on religion, race, caste, sex, or place of birth Promotes enmity between different groups on grounds of religion, race, place of birth, residence, language, etc., and does acts prejudicial to the maintenance of harmony.\n",
      "Found 2 related articles:\n",
      "Section 153A: discrimination based on religion, race, caste, sex, or place of birth Promotes enmity between different groups on grounds of religion, race, place of birth, residence, language, etc., and does acts prejudicial to the maintenance of harmony.\n",
      "Section 153A: Addresses acts that promote enmity between different groups and is relevant in the context of ensuring equality and preventing discrimination.\n",
      "Goodbye!\n"
     ]
    }
   ],
   "source": [
    "import pandas as pd\n",
    "import re\n",
    "\n",
    "# Function to load the CSV file\n",
    "def load_articles(csv_file):\n",
    "    # Load the CSV file into a pandas DataFrame\n",
    "    df = pd.read_csv(csv_file)\n",
    "    return df\n",
    "\n",
    "# Function to search for articles related to the crime or keyword\n",
    "def search_articles(df, crime):\n",
    "    # Convert crime to lowercase for case-insensitive matching\n",
    "    crime = crime.lower()\n",
    "    results = []\n",
    "\n",
    "    # Iterate through each row in the dataframe\n",
    "    for index, row in df.iterrows():\n",
    "        # Ensure the article text is a string\n",
    "        article_text = str(row['text'])\n",
    "\n",
    "        # Check if the crime or keyword is in the article's text (case-insensitive)\n",
    "        if re.search(crime, article_text, re.IGNORECASE):\n",
    "            results.append(f\"{row['article']}: {row['text']}\")\n",
    "    \n",
    "    return results\n",
    "\n",
    "# The chatbot logic\n",
    "def chatbot(csv_file):\n",
    "    print(\"Welcome to Sevak - Your legal assistant!\")\n",
    "    \n",
    "    # Load articles from the CSV file\n",
    "    df = load_articles(csv_file)\n",
    "    \n",
    "    while True:\n",
    "        # Get user input\n",
    "        user_input = input(\"Enter the crime or keyword (or type 'exit' to stop): \").strip()\n",
    "        \n",
    "        if user_input.lower() == 'exit':\n",
    "            print(\"Goodbye!\")\n",
    "            break\n",
    "        \n",
    "        # Search for articles based on the input\n",
    "        results = search_articles(df, user_input)\n",
    "        \n",
    "        # Display the results\n",
    "        if results:\n",
    "            print(f\"Found {len(results)} related articles:\")\n",
    "            for result in results:\n",
    "                print(result)\n",
    "        else:\n",
    "            print(\"No relevant articles found.\")\n",
    "\n",
    "# Run the chatbot\n",
    "if __name__ == \"__main__\":\n",
    "    # Provide the path to your CSV file\n",
    "    csv_file = 'constitution_articles.csv'\n",
    "    chatbot(csv_file)\n"
   ]
  },
  {
   "cell_type": "code",
   "execution_count": null,
   "metadata": {},
   "outputs": [],
   "source": []
  }
 ],
 "metadata": {
  "kernelspec": {
   "display_name": "Python 3",
   "language": "python",
   "name": "python3"
  },
  "language_info": {
   "codemirror_mode": {
    "name": "ipython",
    "version": 3
   },
   "file_extension": ".py",
   "mimetype": "text/x-python",
   "name": "python",
   "nbconvert_exporter": "python",
   "pygments_lexer": "ipython3",
   "version": "3.11.9"
  }
 },
 "nbformat": 4,
 "nbformat_minor": 2
}
